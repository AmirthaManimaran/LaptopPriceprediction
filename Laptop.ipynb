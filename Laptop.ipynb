https://colab.research.google.com/drive/1X4buoFq_9fNZQymGaCTD2PbZ1iJ326p1#scrollTo=CRaJ-rkyczDv
